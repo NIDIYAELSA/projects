{
 "cells": [
  {
   "cell_type": "code",
   "execution_count": null,
   "metadata": {},
   "outputs": [],
   "source": [
    "import pandas as pd\n",
    "import numpy as np\n",
    "import matplotlib.pyplot as plt"
   ]
  },
  {
   "cell_type": "markdown",
   "metadata": {},
   "source": [
    "Question 1\n",
    "What is the present value of $418 received in 12 years with an annual discount rate of 2.2%?"
   ]
  },
  {
   "cell_type": "code",
   "execution_count": 4,
   "metadata": {},
   "outputs": [],
   "source": [
    "PV = FV/(1 + i)**N"
   ]
  },
  {
   "cell_type": "code",
   "execution_count": 5,
   "metadata": {},
   "outputs": [],
   "source": [
    "i = 0.022\n",
    "FV = 418\n",
    "N = 12"
   ]
  },
  {
   "cell_type": "code",
   "execution_count": 9,
   "metadata": {},
   "outputs": [
    {
     "name": "stdout",
     "output_type": "stream",
     "text": [
      "The Present Value of $418 received in 12 years with an annual discount rate of 2.2% is =:  321.93\n"
     ]
    }
   ],
   "source": [
    "PV\n",
    "print('The Present Value of $418 received in 12 years with an annual discount rate of 2.2% is =: ', round(PV,2))"
   ]
  },
  {
   "cell_type": "markdown",
   "metadata": {},
   "source": [
    "Question 2\n",
    "If you deposit $2,400 in the bank for 15 years and the annual interest rate us 1.75%, what is the future value of your deposit in 15 years?"
   ]
  },
  {
   "cell_type": "code",
   "execution_count": 11,
   "metadata": {},
   "outputs": [],
   "source": [
    "PV2 = 2400\n",
    "i2 = 0.0175\n",
    "N2 = 15\n",
    "FV2 = PV2*(1+i2)**N2"
   ]
  },
  {
   "cell_type": "code",
   "execution_count": 12,
   "metadata": {},
   "outputs": [
    {
     "name": "stdout",
     "output_type": "stream",
     "text": [
      "If you deposit $2,400 in the bank for 15 years and the annual interest rate us 1.75%,  the future value of your deposit in 15 years =:  3113.35\n"
     ]
    }
   ],
   "source": [
    "print('If you deposit $2,400 in the bank for 15 years and the annual interest rate us 1.75%,  the future value of your deposit in 15 years =: ', round(FV2,2))"
   ]
  },
  {
   "cell_type": "markdown",
   "metadata": {},
   "source": [
    "Question 3\n",
    "Annual payment of an investment is $35 with 18 years remaining in the investment vehicle.\n",
    "What is the present value if the annual discount rate is 4.32%, compounded semi-annually?"
   ]
  },
  {
   "cell_type": "code",
   "execution_count": null,
   "metadata": {},
   "outputs": [],
   "source": []
  },
  {
   "cell_type": "markdown",
   "metadata": {},
   "source": [
    "Question 4\n",
    "a)\tIf you are trying to achieve a savings goal of $5,500 by the end of 2023 (assuming you started Jan 1st, 2020), \n",
    "how much do you have to save each year if the corresponding annual rate is 2.98%?"
   ]
  },
  {
   "cell_type": "code",
   "execution_count": null,
   "metadata": {},
   "outputs": [],
   "source": []
  },
  {
   "cell_type": "markdown",
   "metadata": {},
   "source": [
    "b)\tHow much do you have to save semi-annually?"
   ]
  },
  {
   "cell_type": "code",
   "execution_count": null,
   "metadata": {},
   "outputs": [],
   "source": []
  },
  {
   "cell_type": "markdown",
   "metadata": {},
   "source": [
    "Question 5\n",
    "A capital investment in an equipment with an upfront cost of $23,540 will provide you with the following annual cash \n",
    "flow stream (paid end of year):\n",
    "\n",
    "1.\t$2,000\n",
    "2.\t$1,456\n",
    "3.\t$3,230\n",
    "4.\t$6,850\n",
    "5.\t$2,384\n",
    "6.\t$1,234\n",
    "7.\t$5,987\n",
    "8.\t$4,190\n",
    "\n",
    "The project will incur the following cost for maintenance and repair (paid end of year):\n",
    "Year 3: ($2,984)\n",
    "Year 4: ($1,837)\n",
    "Year 6-8: ($2,000)\n",
    "    \n",
    "Calculate the NPV of the investment and comment on whether you should invest in the project. \n",
    "Why or why not? What is the IRR of the investment? The required rate of return is 3.5%.\n"
   ]
  },
  {
   "cell_type": "code",
   "execution_count": null,
   "metadata": {},
   "outputs": [],
   "source": []
  }
 ],
 "metadata": {
  "kernelspec": {
   "display_name": "Python 3",
   "language": "python",
   "name": "python3"
  },
  "language_info": {
   "codemirror_mode": {
    "name": "ipython",
    "version": 3
   },
   "file_extension": ".py",
   "mimetype": "text/x-python",
   "name": "python",
   "nbconvert_exporter": "python",
   "pygments_lexer": "ipython3",
   "version": "3.8.5"
  }
 },
 "nbformat": 4,
 "nbformat_minor": 4
}
