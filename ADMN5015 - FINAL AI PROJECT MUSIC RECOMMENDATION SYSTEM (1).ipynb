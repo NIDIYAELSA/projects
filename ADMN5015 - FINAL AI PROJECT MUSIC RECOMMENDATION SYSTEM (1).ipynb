{
 "cells": [
  {
   "cell_type": "markdown",
   "id": "73e92049",
   "metadata": {},
   "source": [
    "# ADMN5015 - FINAL ARTIFICIAL INTELLIGENCE  PROJECT  "
   ]
  },
  {
   "cell_type": "markdown",
   "id": "29875b5b",
   "metadata": {},
   "source": [
    "# Music Recommendation System "
   ]
  },
  {
   "cell_type": "markdown",
   "id": "ce8af448",
   "metadata": {},
   "source": [
    "#### In this project I have used a dataset containing 195 songs. It is mainly French Rap , American rap , rock or electro music, classical songs and disco songs, which I collected from Kaggle.com. Here, I am trying to create a music recommender system where the music provider can predict and then offer the appropriate songs to their users based on the characterstics of the music that has been previously heard or according to the like and dislikes of music. Then I save the classification report as a database in which the classification report shows a representation of the main classification metrics on a per-class basis. This gives a deeper intuition of the classifier behavior over global accuracy which can mask functional weaknesses in one class of a multiclass problem. Later on I visualize the classification report using powerbi. If a new company adapts this system, then the company will be able to provide best possible experience for the users, a good user experience will eventually lead to more sales and more profit. "
   ]
  },
  {
   "cell_type": "code",
   "execution_count": 88,
   "id": "6d3fa7cd",
   "metadata": {},
   "outputs": [],
   "source": [
    "# importing os to interact with the underlying operating system\n",
    "\n",
    "import os"
   ]
  },
  {
   "cell_type": "code",
   "execution_count": 89,
   "id": "cecb86ca",
   "metadata": {},
   "outputs": [],
   "source": [
    "import numpy as np\n",
    "import pandas as pd \n",
    "import matplotlib.pyplot as plt \n",
    "import seaborn as sns \n",
    "\n",
    "#import warnings filter\n",
    "\n",
    "import warnings \n",
    "warnings.filterwarnings('ignore')\n",
    "\n",
    "%matplotlib inline "
   ]
  },
  {
   "cell_type": "markdown",
   "id": "5627db6c",
   "metadata": {},
   "source": [
    "### Importing the dataset"
   ]
  },
  {
   "cell_type": "code",
   "execution_count": 90,
   "id": "c7c26ecd",
   "metadata": {},
   "outputs": [],
   "source": [
    "# importing the dataset\n",
    "\n",
    "MUSIC_df = pd.read_csv(\"DATA_MUSIC.CSV\")"
   ]
  },
  {
   "cell_type": "code",
   "execution_count": 91,
   "id": "3b8904ff",
   "metadata": {},
   "outputs": [
    {
     "data": {
      "text/html": [
       "<div>\n",
       "<style scoped>\n",
       "    .dataframe tbody tr th:only-of-type {\n",
       "        vertical-align: middle;\n",
       "    }\n",
       "\n",
       "    .dataframe tbody tr th {\n",
       "        vertical-align: top;\n",
       "    }\n",
       "\n",
       "    .dataframe thead th {\n",
       "        text-align: right;\n",
       "    }\n",
       "</style>\n",
       "<table border=\"1\" class=\"dataframe\">\n",
       "  <thead>\n",
       "    <tr style=\"text-align: right;\">\n",
       "      <th></th>\n",
       "      <th>songs</th>\n",
       "      <th>danceability</th>\n",
       "      <th>energy</th>\n",
       "      <th>key</th>\n",
       "      <th>loudness</th>\n",
       "      <th>mode</th>\n",
       "      <th>speechiness</th>\n",
       "      <th>acousticness</th>\n",
       "      <th>instrumentalness</th>\n",
       "      <th>liveness</th>\n",
       "      <th>valence</th>\n",
       "      <th>tempo</th>\n",
       "      <th>duration_ms</th>\n",
       "      <th>time_signature</th>\n",
       "      <th>liked</th>\n",
       "    </tr>\n",
       "  </thead>\n",
       "  <tbody>\n",
       "    <tr>\n",
       "      <th>0</th>\n",
       "      <td>1</td>\n",
       "      <td>0.803</td>\n",
       "      <td>0.6240</td>\n",
       "      <td>7</td>\n",
       "      <td>-6.764</td>\n",
       "      <td>0</td>\n",
       "      <td>0.0477</td>\n",
       "      <td>0.451</td>\n",
       "      <td>0.000734</td>\n",
       "      <td>0.1000</td>\n",
       "      <td>0.6280</td>\n",
       "      <td>95.968</td>\n",
       "      <td>304524</td>\n",
       "      <td>4</td>\n",
       "      <td>0</td>\n",
       "    </tr>\n",
       "    <tr>\n",
       "      <th>1</th>\n",
       "      <td>2</td>\n",
       "      <td>0.762</td>\n",
       "      <td>0.7030</td>\n",
       "      <td>10</td>\n",
       "      <td>-7.951</td>\n",
       "      <td>0</td>\n",
       "      <td>0.3060</td>\n",
       "      <td>0.206</td>\n",
       "      <td>0.000000</td>\n",
       "      <td>0.0912</td>\n",
       "      <td>0.5190</td>\n",
       "      <td>151.329</td>\n",
       "      <td>247178</td>\n",
       "      <td>4</td>\n",
       "      <td>1</td>\n",
       "    </tr>\n",
       "    <tr>\n",
       "      <th>2</th>\n",
       "      <td>3</td>\n",
       "      <td>0.261</td>\n",
       "      <td>0.0149</td>\n",
       "      <td>1</td>\n",
       "      <td>-27.528</td>\n",
       "      <td>1</td>\n",
       "      <td>0.0419</td>\n",
       "      <td>0.992</td>\n",
       "      <td>0.897000</td>\n",
       "      <td>0.1020</td>\n",
       "      <td>0.0382</td>\n",
       "      <td>75.296</td>\n",
       "      <td>286987</td>\n",
       "      <td>4</td>\n",
       "      <td>0</td>\n",
       "    </tr>\n",
       "    <tr>\n",
       "      <th>3</th>\n",
       "      <td>4</td>\n",
       "      <td>0.722</td>\n",
       "      <td>0.7360</td>\n",
       "      <td>3</td>\n",
       "      <td>-6.994</td>\n",
       "      <td>0</td>\n",
       "      <td>0.0585</td>\n",
       "      <td>0.431</td>\n",
       "      <td>0.000001</td>\n",
       "      <td>0.1230</td>\n",
       "      <td>0.5820</td>\n",
       "      <td>89.860</td>\n",
       "      <td>208920</td>\n",
       "      <td>4</td>\n",
       "      <td>1</td>\n",
       "    </tr>\n",
       "    <tr>\n",
       "      <th>4</th>\n",
       "      <td>5</td>\n",
       "      <td>0.787</td>\n",
       "      <td>0.5720</td>\n",
       "      <td>1</td>\n",
       "      <td>-7.516</td>\n",
       "      <td>1</td>\n",
       "      <td>0.2220</td>\n",
       "      <td>0.145</td>\n",
       "      <td>0.000000</td>\n",
       "      <td>0.0753</td>\n",
       "      <td>0.6470</td>\n",
       "      <td>155.117</td>\n",
       "      <td>179413</td>\n",
       "      <td>4</td>\n",
       "      <td>1</td>\n",
       "    </tr>\n",
       "  </tbody>\n",
       "</table>\n",
       "</div>"
      ],
      "text/plain": [
       "   songs  danceability  energy  key  loudness  mode  speechiness  \\\n",
       "0      1         0.803  0.6240    7    -6.764     0       0.0477   \n",
       "1      2         0.762  0.7030   10    -7.951     0       0.3060   \n",
       "2      3         0.261  0.0149    1   -27.528     1       0.0419   \n",
       "3      4         0.722  0.7360    3    -6.994     0       0.0585   \n",
       "4      5         0.787  0.5720    1    -7.516     1       0.2220   \n",
       "\n",
       "   acousticness  instrumentalness  liveness  valence    tempo  duration_ms  \\\n",
       "0         0.451          0.000734    0.1000   0.6280   95.968       304524   \n",
       "1         0.206          0.000000    0.0912   0.5190  151.329       247178   \n",
       "2         0.992          0.897000    0.1020   0.0382   75.296       286987   \n",
       "3         0.431          0.000001    0.1230   0.5820   89.860       208920   \n",
       "4         0.145          0.000000    0.0753   0.6470  155.117       179413   \n",
       "\n",
       "   time_signature  liked  \n",
       "0               4      0  \n",
       "1               4      1  \n",
       "2               4      0  \n",
       "3               4      1  \n",
       "4               4      1  "
      ]
     },
     "execution_count": 91,
     "metadata": {},
     "output_type": "execute_result"
    }
   ],
   "source": [
    "#initial columns and rows of the dataset\n",
    "\n",
    "MUSIC_df.head()"
   ]
  },
  {
   "cell_type": "code",
   "execution_count": 92,
   "id": "23f62e4b",
   "metadata": {
    "scrolled": false
   },
   "outputs": [
    {
     "data": {
      "text/html": [
       "<div>\n",
       "<style scoped>\n",
       "    .dataframe tbody tr th:only-of-type {\n",
       "        vertical-align: middle;\n",
       "    }\n",
       "\n",
       "    .dataframe tbody tr th {\n",
       "        vertical-align: top;\n",
       "    }\n",
       "\n",
       "    .dataframe thead th {\n",
       "        text-align: right;\n",
       "    }\n",
       "</style>\n",
       "<table border=\"1\" class=\"dataframe\">\n",
       "  <thead>\n",
       "    <tr style=\"text-align: right;\">\n",
       "      <th></th>\n",
       "      <th>songs</th>\n",
       "      <th>danceability</th>\n",
       "      <th>energy</th>\n",
       "      <th>key</th>\n",
       "      <th>loudness</th>\n",
       "      <th>mode</th>\n",
       "      <th>speechiness</th>\n",
       "      <th>acousticness</th>\n",
       "      <th>instrumentalness</th>\n",
       "      <th>liveness</th>\n",
       "      <th>valence</th>\n",
       "      <th>tempo</th>\n",
       "      <th>duration_ms</th>\n",
       "      <th>time_signature</th>\n",
       "      <th>liked</th>\n",
       "    </tr>\n",
       "  </thead>\n",
       "  <tbody>\n",
       "    <tr>\n",
       "      <th>190</th>\n",
       "      <td>191</td>\n",
       "      <td>0.166</td>\n",
       "      <td>0.0551</td>\n",
       "      <td>9</td>\n",
       "      <td>-19.494</td>\n",
       "      <td>0</td>\n",
       "      <td>0.0520</td>\n",
       "      <td>0.9760</td>\n",
       "      <td>0.635000</td>\n",
       "      <td>0.1190</td>\n",
       "      <td>0.143</td>\n",
       "      <td>176.616</td>\n",
       "      <td>206520</td>\n",
       "      <td>3</td>\n",
       "      <td>0</td>\n",
       "    </tr>\n",
       "    <tr>\n",
       "      <th>191</th>\n",
       "      <td>192</td>\n",
       "      <td>0.862</td>\n",
       "      <td>0.6240</td>\n",
       "      <td>3</td>\n",
       "      <td>-11.630</td>\n",
       "      <td>1</td>\n",
       "      <td>0.0565</td>\n",
       "      <td>0.0192</td>\n",
       "      <td>0.000153</td>\n",
       "      <td>0.0465</td>\n",
       "      <td>0.882</td>\n",
       "      <td>124.896</td>\n",
       "      <td>254240</td>\n",
       "      <td>4</td>\n",
       "      <td>0</td>\n",
       "    </tr>\n",
       "    <tr>\n",
       "      <th>192</th>\n",
       "      <td>193</td>\n",
       "      <td>0.499</td>\n",
       "      <td>0.3510</td>\n",
       "      <td>9</td>\n",
       "      <td>-11.509</td>\n",
       "      <td>0</td>\n",
       "      <td>0.0448</td>\n",
       "      <td>0.9510</td>\n",
       "      <td>0.000099</td>\n",
       "      <td>0.1180</td>\n",
       "      <td>0.616</td>\n",
       "      <td>90.664</td>\n",
       "      <td>235947</td>\n",
       "      <td>4</td>\n",
       "      <td>0</td>\n",
       "    </tr>\n",
       "    <tr>\n",
       "      <th>193</th>\n",
       "      <td>194</td>\n",
       "      <td>0.574</td>\n",
       "      <td>0.7290</td>\n",
       "      <td>10</td>\n",
       "      <td>-5.838</td>\n",
       "      <td>0</td>\n",
       "      <td>0.0965</td>\n",
       "      <td>0.0406</td>\n",
       "      <td>0.000004</td>\n",
       "      <td>0.1940</td>\n",
       "      <td>0.413</td>\n",
       "      <td>110.547</td>\n",
       "      <td>190239</td>\n",
       "      <td>5</td>\n",
       "      <td>1</td>\n",
       "    </tr>\n",
       "    <tr>\n",
       "      <th>194</th>\n",
       "      <td>195</td>\n",
       "      <td>0.747</td>\n",
       "      <td>0.6660</td>\n",
       "      <td>11</td>\n",
       "      <td>-7.845</td>\n",
       "      <td>1</td>\n",
       "      <td>0.1970</td>\n",
       "      <td>0.1300</td>\n",
       "      <td>0.000000</td>\n",
       "      <td>0.3600</td>\n",
       "      <td>0.531</td>\n",
       "      <td>77.507</td>\n",
       "      <td>177213</td>\n",
       "      <td>4</td>\n",
       "      <td>1</td>\n",
       "    </tr>\n",
       "  </tbody>\n",
       "</table>\n",
       "</div>"
      ],
      "text/plain": [
       "     songs  danceability  energy  key  loudness  mode  speechiness  \\\n",
       "190    191         0.166  0.0551    9   -19.494     0       0.0520   \n",
       "191    192         0.862  0.6240    3   -11.630     1       0.0565   \n",
       "192    193         0.499  0.3510    9   -11.509     0       0.0448   \n",
       "193    194         0.574  0.7290   10    -5.838     0       0.0965   \n",
       "194    195         0.747  0.6660   11    -7.845     1       0.1970   \n",
       "\n",
       "     acousticness  instrumentalness  liveness  valence    tempo  duration_ms  \\\n",
       "190        0.9760          0.635000    0.1190    0.143  176.616       206520   \n",
       "191        0.0192          0.000153    0.0465    0.882  124.896       254240   \n",
       "192        0.9510          0.000099    0.1180    0.616   90.664       235947   \n",
       "193        0.0406          0.000004    0.1940    0.413  110.547       190239   \n",
       "194        0.1300          0.000000    0.3600    0.531   77.507       177213   \n",
       "\n",
       "     time_signature  liked  \n",
       "190               3      0  \n",
       "191               4      0  \n",
       "192               4      0  \n",
       "193               5      1  \n",
       "194               4      1  "
      ]
     },
     "execution_count": 92,
     "metadata": {},
     "output_type": "execute_result"
    }
   ],
   "source": [
    "#final columns and rows of the dataset\n",
    "\n",
    "MUSIC_df.tail()"
   ]
  },
  {
   "cell_type": "code",
   "execution_count": 93,
   "id": "4a4d07d3",
   "metadata": {
    "scrolled": true
   },
   "outputs": [
    {
     "name": "stdout",
     "output_type": "stream",
     "text": [
      "<class 'pandas.core.frame.DataFrame'>\n",
      "RangeIndex: 195 entries, 0 to 194\n",
      "Data columns (total 15 columns):\n",
      " #   Column            Non-Null Count  Dtype  \n",
      "---  ------            --------------  -----  \n",
      " 0   songs             195 non-null    int64  \n",
      " 1   danceability      195 non-null    float64\n",
      " 2   energy            195 non-null    float64\n",
      " 3   key               195 non-null    int64  \n",
      " 4   loudness          195 non-null    float64\n",
      " 5   mode              195 non-null    int64  \n",
      " 6   speechiness       195 non-null    float64\n",
      " 7   acousticness      195 non-null    float64\n",
      " 8   instrumentalness  195 non-null    float64\n",
      " 9   liveness          195 non-null    float64\n",
      " 10  valence           195 non-null    float64\n",
      " 11  tempo             195 non-null    float64\n",
      " 12  duration_ms       195 non-null    int64  \n",
      " 13  time_signature    195 non-null    int64  \n",
      " 14  liked             195 non-null    int64  \n",
      "dtypes: float64(9), int64(6)\n",
      "memory usage: 23.0 KB\n"
     ]
    }
   ],
   "source": [
    "# cheching the variable type\n",
    "\n",
    "MUSIC_df.info()"
   ]
  },
  {
   "cell_type": "code",
   "execution_count": 94,
   "id": "092600d8",
   "metadata": {
    "scrolled": true
   },
   "outputs": [
    {
     "data": {
      "text/html": [
       "<div>\n",
       "<style scoped>\n",
       "    .dataframe tbody tr th:only-of-type {\n",
       "        vertical-align: middle;\n",
       "    }\n",
       "\n",
       "    .dataframe tbody tr th {\n",
       "        vertical-align: top;\n",
       "    }\n",
       "\n",
       "    .dataframe thead th {\n",
       "        text-align: right;\n",
       "    }\n",
       "</style>\n",
       "<table border=\"1\" class=\"dataframe\">\n",
       "  <thead>\n",
       "    <tr style=\"text-align: right;\">\n",
       "      <th></th>\n",
       "      <th>songs</th>\n",
       "      <th>danceability</th>\n",
       "      <th>energy</th>\n",
       "      <th>key</th>\n",
       "      <th>loudness</th>\n",
       "      <th>mode</th>\n",
       "      <th>speechiness</th>\n",
       "      <th>acousticness</th>\n",
       "      <th>instrumentalness</th>\n",
       "      <th>liveness</th>\n",
       "      <th>valence</th>\n",
       "      <th>tempo</th>\n",
       "      <th>duration_ms</th>\n",
       "      <th>time_signature</th>\n",
       "      <th>liked</th>\n",
       "    </tr>\n",
       "  </thead>\n",
       "  <tbody>\n",
       "    <tr>\n",
       "      <th>count</th>\n",
       "      <td>195.000000</td>\n",
       "      <td>195.000000</td>\n",
       "      <td>195.000000</td>\n",
       "      <td>195.000000</td>\n",
       "      <td>195.000000</td>\n",
       "      <td>195.000000</td>\n",
       "      <td>195.000000</td>\n",
       "      <td>195.000000</td>\n",
       "      <td>195.000000</td>\n",
       "      <td>195.000000</td>\n",
       "      <td>195.000000</td>\n",
       "      <td>195.000000</td>\n",
       "      <td>195.000000</td>\n",
       "      <td>195.000000</td>\n",
       "      <td>195.000000</td>\n",
       "    </tr>\n",
       "    <tr>\n",
       "      <th>mean</th>\n",
       "      <td>98.000000</td>\n",
       "      <td>0.636656</td>\n",
       "      <td>0.638431</td>\n",
       "      <td>5.497436</td>\n",
       "      <td>-9.481631</td>\n",
       "      <td>0.538462</td>\n",
       "      <td>0.148957</td>\n",
       "      <td>0.319093</td>\n",
       "      <td>0.192337</td>\n",
       "      <td>0.148455</td>\n",
       "      <td>0.493632</td>\n",
       "      <td>121.086174</td>\n",
       "      <td>213408.933333</td>\n",
       "      <td>3.912821</td>\n",
       "      <td>0.512821</td>\n",
       "    </tr>\n",
       "    <tr>\n",
       "      <th>std</th>\n",
       "      <td>56.435804</td>\n",
       "      <td>0.216614</td>\n",
       "      <td>0.260096</td>\n",
       "      <td>3.415209</td>\n",
       "      <td>6.525086</td>\n",
       "      <td>0.499802</td>\n",
       "      <td>0.120414</td>\n",
       "      <td>0.320782</td>\n",
       "      <td>0.346226</td>\n",
       "      <td>0.105975</td>\n",
       "      <td>0.267695</td>\n",
       "      <td>28.084829</td>\n",
       "      <td>72152.392864</td>\n",
       "      <td>0.451332</td>\n",
       "      <td>0.501122</td>\n",
       "    </tr>\n",
       "    <tr>\n",
       "      <th>min</th>\n",
       "      <td>1.000000</td>\n",
       "      <td>0.130000</td>\n",
       "      <td>0.002400</td>\n",
       "      <td>0.000000</td>\n",
       "      <td>-42.261000</td>\n",
       "      <td>0.000000</td>\n",
       "      <td>0.027800</td>\n",
       "      <td>0.000003</td>\n",
       "      <td>0.000000</td>\n",
       "      <td>0.033100</td>\n",
       "      <td>0.035300</td>\n",
       "      <td>60.171000</td>\n",
       "      <td>77203.000000</td>\n",
       "      <td>1.000000</td>\n",
       "      <td>0.000000</td>\n",
       "    </tr>\n",
       "    <tr>\n",
       "      <th>25%</th>\n",
       "      <td>49.500000</td>\n",
       "      <td>0.462500</td>\n",
       "      <td>0.533500</td>\n",
       "      <td>2.000000</td>\n",
       "      <td>-9.962000</td>\n",
       "      <td>0.000000</td>\n",
       "      <td>0.056800</td>\n",
       "      <td>0.042200</td>\n",
       "      <td>0.000000</td>\n",
       "      <td>0.084000</td>\n",
       "      <td>0.269000</td>\n",
       "      <td>100.242000</td>\n",
       "      <td>178300.500000</td>\n",
       "      <td>4.000000</td>\n",
       "      <td>0.000000</td>\n",
       "    </tr>\n",
       "    <tr>\n",
       "      <th>50%</th>\n",
       "      <td>98.000000</td>\n",
       "      <td>0.705000</td>\n",
       "      <td>0.659000</td>\n",
       "      <td>6.000000</td>\n",
       "      <td>-7.766000</td>\n",
       "      <td>1.000000</td>\n",
       "      <td>0.096200</td>\n",
       "      <td>0.213000</td>\n",
       "      <td>0.000008</td>\n",
       "      <td>0.105000</td>\n",
       "      <td>0.525000</td>\n",
       "      <td>124.896000</td>\n",
       "      <td>204000.000000</td>\n",
       "      <td>4.000000</td>\n",
       "      <td>1.000000</td>\n",
       "    </tr>\n",
       "    <tr>\n",
       "      <th>75%</th>\n",
       "      <td>146.500000</td>\n",
       "      <td>0.799000</td>\n",
       "      <td>0.837500</td>\n",
       "      <td>8.000000</td>\n",
       "      <td>-5.829000</td>\n",
       "      <td>1.000000</td>\n",
       "      <td>0.230500</td>\n",
       "      <td>0.504000</td>\n",
       "      <td>0.097500</td>\n",
       "      <td>0.177000</td>\n",
       "      <td>0.717500</td>\n",
       "      <td>142.460500</td>\n",
       "      <td>242373.500000</td>\n",
       "      <td>4.000000</td>\n",
       "      <td>1.000000</td>\n",
       "    </tr>\n",
       "    <tr>\n",
       "      <th>max</th>\n",
       "      <td>195.000000</td>\n",
       "      <td>0.946000</td>\n",
       "      <td>0.996000</td>\n",
       "      <td>11.000000</td>\n",
       "      <td>-2.336000</td>\n",
       "      <td>1.000000</td>\n",
       "      <td>0.540000</td>\n",
       "      <td>0.995000</td>\n",
       "      <td>0.969000</td>\n",
       "      <td>0.633000</td>\n",
       "      <td>0.980000</td>\n",
       "      <td>180.036000</td>\n",
       "      <td>655213.000000</td>\n",
       "      <td>5.000000</td>\n",
       "      <td>1.000000</td>\n",
       "    </tr>\n",
       "  </tbody>\n",
       "</table>\n",
       "</div>"
      ],
      "text/plain": [
       "            songs  danceability      energy         key    loudness  \\\n",
       "count  195.000000    195.000000  195.000000  195.000000  195.000000   \n",
       "mean    98.000000      0.636656    0.638431    5.497436   -9.481631   \n",
       "std     56.435804      0.216614    0.260096    3.415209    6.525086   \n",
       "min      1.000000      0.130000    0.002400    0.000000  -42.261000   \n",
       "25%     49.500000      0.462500    0.533500    2.000000   -9.962000   \n",
       "50%     98.000000      0.705000    0.659000    6.000000   -7.766000   \n",
       "75%    146.500000      0.799000    0.837500    8.000000   -5.829000   \n",
       "max    195.000000      0.946000    0.996000   11.000000   -2.336000   \n",
       "\n",
       "             mode  speechiness  acousticness  instrumentalness    liveness  \\\n",
       "count  195.000000   195.000000    195.000000        195.000000  195.000000   \n",
       "mean     0.538462     0.148957      0.319093          0.192337    0.148455   \n",
       "std      0.499802     0.120414      0.320782          0.346226    0.105975   \n",
       "min      0.000000     0.027800      0.000003          0.000000    0.033100   \n",
       "25%      0.000000     0.056800      0.042200          0.000000    0.084000   \n",
       "50%      1.000000     0.096200      0.213000          0.000008    0.105000   \n",
       "75%      1.000000     0.230500      0.504000          0.097500    0.177000   \n",
       "max      1.000000     0.540000      0.995000          0.969000    0.633000   \n",
       "\n",
       "          valence       tempo    duration_ms  time_signature       liked  \n",
       "count  195.000000  195.000000     195.000000      195.000000  195.000000  \n",
       "mean     0.493632  121.086174  213408.933333        3.912821    0.512821  \n",
       "std      0.267695   28.084829   72152.392864        0.451332    0.501122  \n",
       "min      0.035300   60.171000   77203.000000        1.000000    0.000000  \n",
       "25%      0.269000  100.242000  178300.500000        4.000000    0.000000  \n",
       "50%      0.525000  124.896000  204000.000000        4.000000    1.000000  \n",
       "75%      0.717500  142.460500  242373.500000        4.000000    1.000000  \n",
       "max      0.980000  180.036000  655213.000000        5.000000    1.000000  "
      ]
     },
     "execution_count": 94,
     "metadata": {},
     "output_type": "execute_result"
    }
   ],
   "source": [
    "# description of the data in the DataFrame\n",
    "\n",
    "MUSIC_df.describe()"
   ]
  },
  {
   "cell_type": "code",
   "execution_count": 95,
   "id": "76737a4b",
   "metadata": {},
   "outputs": [
    {
     "data": {
      "text/plain": [
       "(195, 15)"
      ]
     },
     "execution_count": 95,
     "metadata": {},
     "output_type": "execute_result"
    }
   ],
   "source": [
    "# total number of musics and variables\n",
    "\n",
    "MUSIC_df.shape"
   ]
  },
  {
   "cell_type": "code",
   "execution_count": 96,
   "id": "262d67c6",
   "metadata": {},
   "outputs": [
    {
     "data": {
      "text/plain": [
       "songs               0\n",
       "danceability        0\n",
       "energy              0\n",
       "key                 0\n",
       "loudness            0\n",
       "mode                0\n",
       "speechiness         0\n",
       "acousticness        0\n",
       "instrumentalness    0\n",
       "liveness            0\n",
       "valence             0\n",
       "tempo               0\n",
       "duration_ms         0\n",
       "time_signature      0\n",
       "liked               0\n",
       "dtype: int64"
      ]
     },
     "execution_count": 96,
     "metadata": {},
     "output_type": "execute_result"
    }
   ],
   "source": [
    "#returns the number of missing values in the data set.\n",
    "\n",
    "MUSIC_df.isnull().sum()"
   ]
  },
  {
   "cell_type": "code",
   "execution_count": 97,
   "id": "ceb0fcae",
   "metadata": {},
   "outputs": [
    {
     "data": {
      "text/plain": [
       "1    100\n",
       "0     95\n",
       "Name: liked, dtype: int64"
      ]
     },
     "execution_count": 97,
     "metadata": {},
     "output_type": "execute_result"
    }
   ],
   "source": [
    "# number of liked and disliked songs\n",
    "\n",
    "MUSIC_df['liked'].value_counts()"
   ]
  },
  {
   "cell_type": "code",
   "execution_count": 98,
   "id": "0644de01",
   "metadata": {},
   "outputs": [
    {
     "data": {
      "image/png": "[encoded data removed]",
      "text/plain": [
       "<Figure size 432x288 with 1 Axes>"
      ]
     },
     "metadata": {
      "needs_background": "light"
     },
     "output_type": "display_data"
    }
   ],
   "source": [
    "# visualizing the above result\n",
    "\n",
    "sns.countplot(x='liked', data= MUSIC_df, palette='hls')\n",
    "plt.show()\n"
   ]
  },
  {
   "cell_type": "markdown",
   "id": "40f144dd",
   "metadata": {},
   "source": [
    "# Data Pre-Processing\n",
    "## Creating Train & Test sets"
   ]
  },
  {
   "cell_type": "code",
   "execution_count": 99,
   "id": "b9101696",
   "metadata": {},
   "outputs": [],
   "source": [
    "#creating training and testing sets\n",
    "#removing liked values from MUSIC_df and storing the result to x\n",
    "# assigning the liked values in the dataframe to y\n",
    "\n",
    "X = MUSIC_df.drop('liked' , axis = 1)\n",
    "y = MUSIC_df['liked']"
   ]
  },
  {
   "cell_type": "code",
   "execution_count": 100,
   "id": "f292f035",
   "metadata": {},
   "outputs": [],
   "source": [
    "# from sklearn.model_selection we are importing train_test_split for splitting data into training and testing data.\n",
    "# from sklearn.metrics we are importing accuracy_score , roc_auc_score , confusion_matrix \n",
    "\n",
    "from sklearn.model_selection import train_test_split\n",
    "from sklearn.metrics import accuracy_score , roc_auc_score , confusion_matrix"
   ]
  },
  {
   "cell_type": "code",
   "execution_count": 101,
   "id": "eac06a1a",
   "metadata": {},
   "outputs": [],
   "source": [
    "# splitting the data \n",
    "# assigning the size of the data, size of testing set = 30% of total data  \n",
    "\n",
    "X_train , X_test , y_train , y_test = train_test_split(X , y , test_size=0.3)"
   ]
  },
  {
   "cell_type": "code",
   "execution_count": 102,
   "id": "5840d749",
   "metadata": {},
   "outputs": [
    {
     "name": "stdout",
     "output_type": "stream",
     "text": [
      "the shapes of x-train and x-test are :  (136, 14) (59, 14)\n",
      "the shapes of y-train and y-test are :  (136,) (59,)\n"
     ]
    }
   ],
   "source": [
    "# training set contains 136 songs and testing set contains 59 songs\n",
    "\n",
    "print(\"the shapes of x-train and x-test are : \" , X_train.shape , X_test.shape)\n",
    "print(\"the shapes of y-train and y-test are : \" , y_train.shape , y_test.shape)"
   ]
  },
  {
   "cell_type": "code",
   "execution_count": 103,
   "id": "2ba9aaf5",
   "metadata": {},
   "outputs": [
    {
     "data": {
      "text/plain": [
       "Text(0.5, 1.0, 'Correlation HeatMap')"
      ]
     },
     "execution_count": 103,
     "metadata": {},
     "output_type": "execute_result"
    },
    {
     "data": {
      "image/png": "[encoded data removed]",
      "text/plain": [
       "<Figure size 1440x576 with 2 Axes>"
      ]
     },
     "metadata": {
      "needs_background": "light"
     },
     "output_type": "display_data"
    }
   ],
   "source": [
    "# correlation heatmap\n",
    "\n",
    "plt.figure(figsize=(20,8))\n",
    "heatmap = sns.heatmap(MUSIC_df.corr() , vmin=-1 , vmax=1 ,annot=True , cmap='BrBG')\n",
    "heatmap.set_title('Correlation HeatMap' , fontdict = {'fontsize' : 18} , pad=12)"
   ]
  },
  {
   "cell_type": "markdown",
   "id": "c5d005dc",
   "metadata": {},
   "source": [
    "# Building ML Models\n",
    "## Decision Tree Classifier"
   ]
  },
  {
   "cell_type": "code",
   "execution_count": 104,
   "id": "7b646aaf",
   "metadata": {},
   "outputs": [],
   "source": [
    "# importing DecisionTreeClassifier\n",
    "# creates the classification model by building a decision tree.\n",
    "\n",
    "from sklearn.tree import DecisionTreeClassifier , plot_tree"
   ]
  },
  {
   "cell_type": "code",
   "execution_count": 105,
   "id": "39dc58be",
   "metadata": {},
   "outputs": [],
   "source": [
    "dt_clf = DecisionTreeClassifier()"
   ]
  },
  {
   "cell_type": "code",
   "execution_count": 106,
   "id": "c950e7b7",
   "metadata": {},
   "outputs": [
    {
     "data": {
      "text/plain": [
       "DecisionTreeClassifier()"
      ]
     },
     "execution_count": 106,
     "metadata": {},
     "output_type": "execute_result"
    }
   ],
   "source": [
    "dt_clf.fit(X_train , y_train)"
   ]
  },
  {
   "cell_type": "code",
   "execution_count": 107,
   "id": "4a449535",
   "metadata": {},
   "outputs": [],
   "source": [
    "y_preds_dt = dt_clf.predict(X_test)"
   ]
  },
  {
   "cell_type": "code",
   "execution_count": 108,
   "id": "4e866d97",
   "metadata": {},
   "outputs": [
    {
     "name": "stdout",
     "output_type": "stream",
     "text": [
      "Accuracy Score of the Decision Tree Model 0.8305084745762712\n",
      "ROC AUC score of the Decision Tree Model is :  0.8304597701149427\n"
     ]
    }
   ],
   "source": [
    "print(\"Accuracy Score of the Decision Tree Model\" , accuracy_score(y_test , y_preds_dt))\n",
    "print(\"ROC AUC score of the Decision Tree Model is : \" , roc_auc_score(y_test , y_preds_dt))"
   ]
  },
  {
   "attachments": {},
   "cell_type": "markdown",
   "id": "abd3ce19",
   "metadata": {},
   "source": [
    "#### Here, the Accuracy Score of the Decision Tree Model =  0.813"
   ]
  },
  {
   "cell_type": "code",
   "execution_count": 109,
   "id": "2f02d171",
   "metadata": {},
   "outputs": [
    {
     "data": {
      "text/plain": [
       "Text(0.5, 1.0, 'Confusin Matrix Of Decision Tree Model')"
      ]
     },
     "execution_count": 109,
     "metadata": {},
     "output_type": "execute_result"
    },
    {
     "data": {
      "image/png": "[encoded data removed]",
      "text/plain": [
       "<Figure size 720x504 with 2 Axes>"
      ]
     },
     "metadata": {
      "needs_background": "light"
     },
     "output_type": "display_data"
    }
   ],
   "source": [
    "#confusion Matrix of Decision Tree Model \n",
    "cm  = confusion_matrix(y_test , y_preds_dt)\n",
    "\n",
    "x_axis_labels = [\"Yes\" , \"No\"]\n",
    "y_axis_labels = [\"Yes\" , \"No\"]\n",
    "\n",
    "f , ax = plt.subplots(figsize=(10,7))\n",
    "sns.heatmap(cm , annot=True, linewidths=0.2 , linecolor=\"black\" , fmt=\".0f\" , ax=ax , cmap=\"Greens\" , \n",
    "           xticklabels=x_axis_labels , yticklabels=y_axis_labels)\n",
    "plt.xlabel(\"PREDICTED LABEL\")\n",
    "plt.ylabel(\"TRUE LABEL\")\n",
    "plt.title(\"Confusin Matrix Of Decision Tree Model\")"
   ]
  },
  {
   "cell_type": "markdown",
   "id": "9414af0d",
   "metadata": {},
   "source": [
    "# Ensemble Models\n",
    "## Random Forest Classifier"
   ]
  },
  {
   "cell_type": "code",
   "execution_count": 110,
   "id": "ed514363",
   "metadata": {},
   "outputs": [],
   "source": [
    "# importing RandomForestClassifier , ExtraTreesClassifier , BaggingClassifier , AdaBoostClassifier from sklearn.ensemble\n",
    "\n",
    "# A random forest is a meta estimator that fits a number of decision tree classifiers on various sub-samples of the dataset and uses averaging to improve the predictive accuracy and control over-fitting\n",
    "\n",
    "# An extra-trees classifier implements a meta estimator that fits a number of randomized decision trees (a.k.a. extra-trees) on various sub-samples of the dataset and uses averaging to improve the predictive accuracy and control over-fitting\n",
    "\n",
    "# A Bagging classifier is an ensemble meta-estimator that fits base classifiers each on random subsets of the original dataset and then aggregate their individual predictions (either by voting or by averaging) to form a final prediction.\n",
    "\n",
    "# AdaBoostClassifier is a meta-estimator that begins by fitting a classifier on the original dataset and then fits additional copies of the classifier on the same dataset but where the weights of incorrectly classified instances are adjusted such that subsequent classifiers focus more on difficult cases.\n",
    "\n",
    "from sklearn.ensemble import RandomForestClassifier , ExtraTreesClassifier , BaggingClassifier , AdaBoostClassifier"
   ]
  },
  {
   "cell_type": "code",
   "execution_count": 111,
   "id": "d5212a28",
   "metadata": {},
   "outputs": [],
   "source": [
    "rf_clf = RandomForestClassifier(n_estimators=100)\n",
    "extratree_clf = ExtraTreesClassifier(n_estimators=100)\n",
    "bg_clf = BaggingClassifier(n_estimators=100)\n",
    "ada_clf = AdaBoostClassifier(n_estimators=100)"
   ]
  },
  {
   "cell_type": "code",
   "execution_count": 112,
   "id": "3358be68",
   "metadata": {},
   "outputs": [
    {
     "data": {
      "text/plain": [
       "AdaBoostClassifier(n_estimators=100)"
      ]
     },
     "execution_count": 112,
     "metadata": {},
     "output_type": "execute_result"
    }
   ],
   "source": [
    "rf_clf.fit(X_train , y_train)\n",
    "extratree_clf.fit(X_train , y_train)\n",
    "bg_clf.fit(X_train , y_train)\n",
    "ada_clf.fit(X_train , y_train)"
   ]
  },
  {
   "cell_type": "code",
   "execution_count": 113,
   "id": "72ae2db8",
   "metadata": {},
   "outputs": [],
   "source": [
    "y_preds_rf = rf_clf.predict(X_test)\n",
    "y_preds_et = extratree_clf.predict(X_test)\n",
    "y_preds_bg = bg_clf.predict(X_test)\n",
    "y_preds_ada = ada_clf.predict(X_test)"
   ]
  },
  {
   "cell_type": "code",
   "execution_count": 114,
   "id": "1bca939e",
   "metadata": {},
   "outputs": [
    {
     "name": "stdout",
     "output_type": "stream",
     "text": [
      "Accuracy Score of the Random Forest Model 0.9322033898305084\n",
      "Accuracy Score of the Extre Tree Classifier Model 0.9152542372881356\n",
      "Accuracy Score of the Bagging Classifier Model 0.8983050847457628\n",
      "Accuracy Score of the AdaBoost Classifier Model 0.9322033898305084\n"
     ]
    }
   ],
   "source": [
    "print(\"Accuracy Score of the Random Forest Model\", accuracy_score(y_test, y_preds_rf))\n",
    "print(\"Accuracy Score of the Extre Tree Classifier Model\", accuracy_score(y_test, y_preds_et))\n",
    "print(\"Accuracy Score of the Bagging Classifier Model\", accuracy_score(y_test, y_preds_bg))\n",
    "print(\"Accuracy Score of the AdaBoost Classifier Model\", accuracy_score(y_test, y_preds_ada))"
   ]
  },
  {
   "cell_type": "code",
   "execution_count": 115,
   "id": "57c83356",
   "metadata": {},
   "outputs": [
    {
     "name": "stdout",
     "output_type": "stream",
     "text": [
      "ROC AUC Score of the Random Forest Model 0.9321839080459771\n",
      "ROC AUC Score of the Extre Tree Classifier Model 0.9149425287356322\n",
      "ROC AUC Score of the Bagging Classifier Model 0.8982758620689655\n",
      "ROC AUC Score of the AdaBoost Classifier Model 0.9316091954022989\n"
     ]
    }
   ],
   "source": [
    "print(\"ROC AUC Score of the Random Forest Model\", roc_auc_score(y_test, y_preds_rf))\n",
    "print(\"ROC AUC Score of the Extre Tree Classifier Model\", roc_auc_score(y_test, y_preds_et))\n",
    "print(\"ROC AUC Score of the Bagging Classifier Model\", roc_auc_score(y_test, y_preds_bg))\n",
    "print(\"ROC AUC Score of the AdaBoost Classifier Model\", roc_auc_score(y_test, y_preds_ada))"
   ]
  },
  {
   "attachments": {},
   "cell_type": "markdown",
   "id": "642c2328",
   "metadata": {},
   "source": [
    "#### Here we can see that,  Accuracy Score of the Random Forest Model = 0.93\n",
    "#### Accuracy Score of the Extre Tree Classifier Model = 0.88\n",
    "#### Accuracy Score of the Bagging Classifier Model= 0.91\n",
    "#### Accuracy Score of the AdaBoost Classifier Model= 0.88\n"
   ]
  },
  {
   "cell_type": "markdown",
   "id": "8ffa8756",
   "metadata": {},
   "source": [
    "## Confusion Matrix"
   ]
  },
  {
   "cell_type": "code",
   "execution_count": 116,
   "id": "e91f000c",
   "metadata": {},
   "outputs": [
    {
     "data": {
      "text/plain": [
       "Text(0.5, 1.0, 'Confusion Matrix for Random Forest Classifier Model')"
      ]
     },
     "execution_count": 116,
     "metadata": {},
     "output_type": "execute_result"
    },
    {
     "data": {
      "image/png": "[encoded data removed]",
      "text/plain": [
       "<Figure size 720x504 with 2 Axes>"
      ]
     },
     "metadata": {
      "needs_background": "light"
     },
     "output_type": "display_data"
    }
   ],
   "source": [
    "#Confusion Matrix of Random Forest Classifier Model.\n",
    "cm = confusion_matrix(y_test, y_preds_rf)\n",
    "\n",
    "x_axis_labels = [\"Yes\", \"No\"]\n",
    "y_axis_labels = [\"Yes\", \"No\"]\n",
    "\n",
    "f, ax = plt.subplots(figsize =(10,7))\n",
    "sns.heatmap(cm, annot = True, linewidths=0.2, linecolor=\"black\", fmt = \".0f\", ax=ax, cmap=\"Greens\", \n",
    "            xticklabels=x_axis_labels, yticklabels=y_axis_labels)\n",
    "plt.xlabel(\"PREDICTED LABEL\")\n",
    "plt.ylabel(\"TRUE LABEL\")\n",
    "plt.title('Confusion Matrix for Random Forest Classifier Model')"
   ]
  },
  {
   "cell_type": "code",
   "execution_count": 117,
   "id": "b1e9f11b",
   "metadata": {},
   "outputs": [
    {
     "data": {
      "text/plain": [
       "Text(0.5, 1.0, 'Confusion Matrix for Extra Tree Classifier Model')"
      ]
     },
     "execution_count": 117,
     "metadata": {},
     "output_type": "execute_result"
    },
    {
     "data": {
      "image/png": "[encoded data removed]",
      "text/plain": [
       "<Figure size 720x504 with 2 Axes>"
      ]
     },
     "metadata": {
      "needs_background": "light"
     },
     "output_type": "display_data"
    }
   ],
   "source": [
    "#Confusion Matrix of Extra Tree Classifier Model.\n",
    "cm = confusion_matrix(y_test, y_preds_et)\n",
    "\n",
    "x_axis_labels = [\"Yes\", \"No\"]\n",
    "y_axis_labels = [\"Yes\", \"No\"]\n",
    "\n",
    "f, ax = plt.subplots(figsize =(10,7))\n",
    "sns.heatmap(cm, annot = True, linewidths=0.2, linecolor=\"black\", fmt = \".0f\", ax=ax, cmap=\"Greens\", \n",
    "            xticklabels=x_axis_labels, yticklabels=y_axis_labels)\n",
    "plt.xlabel(\"PREDICTED LABEL\")\n",
    "plt.ylabel(\"TRUE LABEL\")\n",
    "plt.title('Confusion Matrix for Extra Tree Classifier Model')"
   ]
  },
  {
   "cell_type": "code",
   "execution_count": 118,
   "id": "c4c2d0f5",
   "metadata": {
    "scrolled": true
   },
   "outputs": [
    {
     "data": {
      "text/plain": [
       "Text(0.5, 1.0, 'Confusion Matrix for Bagging Classifier Model')"
      ]
     },
     "execution_count": 118,
     "metadata": {},
     "output_type": "execute_result"
    },
    {
     "data": {
      "image/png": "[encoded data removed]",
      "text/plain": [
       "<Figure size 720x504 with 2 Axes>"
      ]
     },
     "metadata": {
      "needs_background": "light"
     },
     "output_type": "display_data"
    }
   ],
   "source": [
    "#Confusion Matrix of Bagging Classifier Model.\n",
    "cm = confusion_matrix(y_test, y_preds_bg)\n",
    "\n",
    "x_axis_labels = [\"Yes\", \"No\"]\n",
    "y_axis_labels = [\"Yes\", \"No\"]\n",
    "\n",
    "f, ax = plt.subplots(figsize =(10,7))\n",
    "sns.heatmap(cm, annot = True, linewidths=0.2, linecolor=\"black\", fmt = \".0f\", ax=ax, cmap=\"Greens\", \n",
    "            xticklabels=x_axis_labels, yticklabels=y_axis_labels)\n",
    "plt.xlabel(\"PREDICTED LABEL\")\n",
    "plt.ylabel(\"TRUE LABEL\")\n",
    "plt.title('Confusion Matrix for Bagging Classifier Model')"
   ]
  },
  {
   "cell_type": "code",
   "execution_count": 119,
   "id": "adf14366",
   "metadata": {
    "scrolled": true
   },
   "outputs": [
    {
     "data": {
      "text/plain": [
       "Text(0.5, 1.0, 'Confusion Matrix for AdaBoost Classifier Model')"
      ]
     },
     "execution_count": 119,
     "metadata": {},
     "output_type": "execute_result"
    },
    {
     "data": {
      "image/png": "[encoded data removed]",
      "text/plain": [
       "<Figure size 720x504 with 2 Axes>"
      ]
     },
     "metadata": {
      "needs_background": "light"
     },
     "output_type": "display_data"
    }
   ],
   "source": [
    "#Confusion Matrix of AdaBoost Classifier Model.\n",
    "cm = confusion_matrix(y_test, y_preds_ada)\n",
    "\n",
    "x_axis_labels = [\"Yes\", \"No\"]\n",
    "y_axis_labels = [\"Yes\", \"No\"]\n",
    "\n",
    "f, ax = plt.subplots(figsize =(10,7))\n",
    "sns.heatmap(cm, annot = True, linewidths=0.2, linecolor=\"black\", fmt = \".0f\", ax=ax, cmap=\"Greens\", \n",
    "            xticklabels=x_axis_labels, yticklabels=y_axis_labels)\n",
    "plt.xlabel(\"PREDICTED LABEL\")\n",
    "plt.ylabel(\"TRUE LABEL\")\n",
    "plt.title('Confusion Matrix for AdaBoost Classifier Model')"
   ]
  },
  {
   "cell_type": "markdown",
   "id": "8b0469b4",
   "metadata": {},
   "source": [
    "## LGBM Classifier"
   ]
  },
  {
   "cell_type": "code",
   "execution_count": 127,
   "id": "40211d68",
   "metadata": {},
   "outputs": [],
   "source": [
    "# importing LGBMClassifier from lightgbm\n",
    "\n",
    "# Light GBM is a fast, distributed, high-performance gradient boosting framework based on decision tree algorithm\n",
    "\n",
    "from lightgbm import LGBMClassifier"
   ]
  },
  {
   "cell_type": "code",
   "execution_count": 128,
   "id": "b174d6bf",
   "metadata": {},
   "outputs": [],
   "source": [
    "lgbm_clf = LGBMClassifier()"
   ]
  },
  {
   "cell_type": "code",
   "execution_count": 129,
   "id": "9f102d26",
   "metadata": {},
   "outputs": [
    {
     "data": {
      "text/plain": [
       "LGBMClassifier()"
      ]
     },
     "execution_count": 129,
     "metadata": {},
     "output_type": "execute_result"
    }
   ],
   "source": [
    "lgbm_clf.fit(X_train , y_train)"
   ]
  },
  {
   "cell_type": "code",
   "execution_count": 130,
   "id": "f7487fe1",
   "metadata": {},
   "outputs": [],
   "source": [
    "y_preds_lgbm = lgbm_clf.predict(X_test)"
   ]
  },
  {
   "cell_type": "code",
   "execution_count": 131,
   "id": "2973ad73",
   "metadata": {},
   "outputs": [
    {
     "name": "stdout",
     "output_type": "stream",
     "text": [
      "Accuracy Score of the LGBM Model 0.9152542372881356\n",
      "ROC AUC Score of the LGBM Model 0.9149425287356322\n"
     ]
    }
   ],
   "source": [
    "print(\"Accuracy Score of the LGBM Model\", accuracy_score(y_test, y_preds_lgbm))\n",
    "print(\"ROC AUC Score of the LGBM Model\", roc_auc_score(y_test, y_preds_lgbm))"
   ]
  },
  {
   "cell_type": "markdown",
   "id": "870efc69",
   "metadata": {},
   "source": [
    "#### Here the accuracy of LGBM Model is 0.89"
   ]
  },
  {
   "cell_type": "code",
   "execution_count": 132,
   "id": "5d756bcb",
   "metadata": {},
   "outputs": [
    {
     "data": {
      "text/plain": [
       "Text(0.5, 1.0, 'Confusion Matrix for LGBM Classifier Model')"
      ]
     },
     "execution_count": 132,
     "metadata": {},
     "output_type": "execute_result"
    },
    {
     "data": {
      "image/png": "[encoded data removed]",
      "text/plain": [
       "<Figure size 720x504 with 2 Axes>"
      ]
     },
     "metadata": {
      "needs_background": "light"
     },
     "output_type": "display_data"
    }
   ],
   "source": [
    "#Confusion Matrix of LGBM Classifier Model.\n",
    "cm = confusion_matrix(y_test, y_preds_lgbm)\n",
    "\n",
    "x_axis_labels = [\"Yes\", \"No\"]\n",
    "y_axis_labels = [\"Yes\", \"No\"]\n",
    "\n",
    "f, ax = plt.subplots(figsize =(10,7))\n",
    "sns.heatmap(cm, annot = True, linewidths=0.2, linecolor=\"black\", fmt = \".0f\", ax=ax, cmap=\"Greens\", \n",
    "            xticklabels=x_axis_labels, yticklabels=y_axis_labels)\n",
    "plt.xlabel(\"PREDICTED LABEL\")\n",
    "plt.ylabel(\"TRUE LABEL\")\n",
    "plt.title('Confusion Matrix for LGBM Classifier Model')"
   ]
  },
  {
   "cell_type": "code",
   "execution_count": 133,
   "id": "a71fb6e6",
   "metadata": {},
   "outputs": [
    {
     "name": "stdout",
     "output_type": "stream",
     "text": [
      "Requirement already satisfied: logmodel in c:\\users\\nidiy\\anaconda3\\lib\\site-packages (0.0.1)\n",
      "Note: you may need to restart the kernel to use updated packages.\n"
     ]
    },
    {
     "name": "stderr",
     "output_type": "stream",
     "text": [
      "WARNING: You are using pip version 22.0.4; however, version 22.1.2 is available.\n",
      "You should consider upgrading via the 'C:\\Users\\nidiy\\anaconda3\\python.exe -m pip install --upgrade pip' command.\n"
     ]
    }
   ],
   "source": [
    "pip install logmodel"
   ]
  },
  {
   "cell_type": "markdown",
   "id": "9e3d6e05",
   "metadata": {},
   "source": [
    "## Predictions and Evaluations "
   ]
  },
  {
   "cell_type": "code",
   "execution_count": 134,
   "id": "9ef4d222",
   "metadata": {},
   "outputs": [],
   "source": [
    "# importing classification_report from sklearn.metrics\n",
    "\n",
    "from sklearn.metrics import classification_report"
   ]
  },
  {
   "cell_type": "code",
   "execution_count": 135,
   "id": "42b64fc9",
   "metadata": {},
   "outputs": [
    {
     "name": "stdout",
     "output_type": "stream",
     "text": [
      "Model Classification Report:\n",
      "              precision    recall  f1-score   support\n",
      "\n",
      "           0       0.93      0.90      0.91        29\n",
      "           1       0.90      0.93      0.92        30\n",
      "\n",
      "    accuracy                           0.92        59\n",
      "   macro avg       0.92      0.91      0.92        59\n",
      "weighted avg       0.92      0.92      0.92        59\n",
      "\n"
     ]
    }
   ],
   "source": [
    "# classification report based on LGBMClassifier result \n",
    "\n",
    "print(\"Model Classification Report:\")\n",
    "\n",
    "print(classification_report(y_test,y_preds_lgbm))"
   ]
  },
  {
   "cell_type": "code",
   "execution_count": 136,
   "id": "5cb74786",
   "metadata": {},
   "outputs": [
    {
     "name": "stdout",
     "output_type": "stream",
     "text": [
      "Model Classification Report:\n",
      "              precision    recall  f1-score   support\n",
      "\n",
      "           0       0.96      0.90      0.93        29\n",
      "           1       0.91      0.97      0.94        30\n",
      "\n",
      "    accuracy                           0.93        59\n",
      "   macro avg       0.93      0.93      0.93        59\n",
      "weighted avg       0.93      0.93      0.93        59\n",
      "\n"
     ]
    }
   ],
   "source": [
    "# classification report based on AdaBoost Classifier result\n",
    "\n",
    "print(\"Model Classification Report:\")\n",
    "\n",
    "print(classification_report(y_test,y_preds_ada))"
   ]
  },
  {
   "cell_type": "code",
   "execution_count": 137,
   "id": "0a5a5d75",
   "metadata": {},
   "outputs": [
    {
     "name": "stdout",
     "output_type": "stream",
     "text": [
      "Model Classification Report:\n",
      "              precision    recall  f1-score   support\n",
      "\n",
      "           0       0.90      0.90      0.90        29\n",
      "           1       0.90      0.90      0.90        30\n",
      "\n",
      "    accuracy                           0.90        59\n",
      "   macro avg       0.90      0.90      0.90        59\n",
      "weighted avg       0.90      0.90      0.90        59\n",
      "\n"
     ]
    }
   ],
   "source": [
    "# classification report based on Bagging Classifier result\n",
    "\n",
    "print(\"Model Classification Report:\")\n",
    "\n",
    "print(classification_report(y_test,y_preds_bg))"
   ]
  },
  {
   "cell_type": "code",
   "execution_count": 138,
   "id": "ec2d647e",
   "metadata": {},
   "outputs": [
    {
     "name": "stdout",
     "output_type": "stream",
     "text": [
      "Model Classification Report:\n",
      "              precision    recall  f1-score   support\n",
      "\n",
      "           0       0.93      0.90      0.91        29\n",
      "           1       0.90      0.93      0.92        30\n",
      "\n",
      "    accuracy                           0.92        59\n",
      "   macro avg       0.92      0.91      0.92        59\n",
      "weighted avg       0.92      0.92      0.92        59\n",
      "\n"
     ]
    }
   ],
   "source": [
    "# classification report based on Extra Tree Classifier result\n",
    "\n",
    "print(\"Model Classification Report:\")\n",
    "\n",
    "print(classification_report(y_test,y_preds_et))"
   ]
  },
  {
   "cell_type": "code",
   "execution_count": 139,
   "id": "509596b2",
   "metadata": {},
   "outputs": [
    {
     "name": "stdout",
     "output_type": "stream",
     "text": [
      "Model Classification Report:\n",
      "              precision    recall  f1-score   support\n",
      "\n",
      "           0       0.93      0.93      0.93        29\n",
      "           1       0.93      0.93      0.93        30\n",
      "\n",
      "    accuracy                           0.93        59\n",
      "   macro avg       0.93      0.93      0.93        59\n",
      "weighted avg       0.93      0.93      0.93        59\n",
      "\n"
     ]
    }
   ],
   "source": [
    "# classification report based on Random Forest Classifier result\n",
    "\n",
    "print(\"Model Classification Report:\")\n",
    "\n",
    "print(classification_report(y_test,y_preds_rf))"
   ]
  },
  {
   "cell_type": "code",
   "execution_count": 140,
   "id": "ffd82c1f",
   "metadata": {},
   "outputs": [
    {
     "name": "stdout",
     "output_type": "stream",
     "text": [
      "Model Classification Report:\n",
      "              precision    recall  f1-score   support\n",
      "\n",
      "           0       0.83      0.83      0.83        29\n",
      "           1       0.83      0.83      0.83        30\n",
      "\n",
      "    accuracy                           0.83        59\n",
      "   macro avg       0.83      0.83      0.83        59\n",
      "weighted avg       0.83      0.83      0.83        59\n",
      "\n"
     ]
    }
   ],
   "source": [
    "# classification report based on Decision Tree Classifier result\n",
    "\n",
    "print(\"Model Classification Report:\")\n",
    "\n",
    "print(classification_report(y_test,y_preds_dt))"
   ]
  },
  {
   "cell_type": "markdown",
   "id": "3a452f24",
   "metadata": {},
   "source": [
    "#### Here, Precision can be seen as a measure of a classifier’s exactness. For each class, it is defined as the ratio of true positives to the sum of true and false positives. \n",
    "\n",
    "#### Recall is a measure of the classifier’s completeness; the ability of a classifier to correctly find all positive instances.\n",
    "\n",
    "#### The F1 score is a weighted harmonic mean of precision and recall such that the best score is 1.0 and the worst is 0.0. \n",
    "\n",
    "#### Support is the number of actual occurrences of the class in the specified dataset.\n",
    "\n",
    "#### From the above Classification Reports it is clear that the results of Random Forest Classifier is more accurate when compared to other classifier, with Accuracy = 0.93, where number of disliked songs = 29 and liked songs = 30, within a total of 59 songs in the testing set. \n"
   ]
  },
  {
   "cell_type": "markdown",
   "id": "067459ee",
   "metadata": {},
   "source": [
    "## PREDICTED VALUES - RANDOM FOREST CLASSIFIER "
   ]
  },
  {
   "cell_type": "code",
   "execution_count": 147,
   "id": "1b11b729",
   "metadata": {},
   "outputs": [],
   "source": [
    "# importing necessary packages\n",
    "import sqlite3\n",
    "import json\n",
    "import codecs"
   ]
  },
  {
   "cell_type": "code",
   "execution_count": 141,
   "id": "1f06442a",
   "metadata": {},
   "outputs": [],
   "source": [
    "conn = sqlite3.connect('music_predict.db')"
   ]
  },
  {
   "cell_type": "code",
   "execution_count": 148,
   "id": "79c9cfb2",
   "metadata": {},
   "outputs": [
    {
     "name": "stdout",
     "output_type": "stream",
     "text": [
      "62     0\n",
      "20     1\n",
      "39     1\n",
      "150    1\n",
      "19     1\n",
      "116    0\n",
      "105    0\n",
      "184    0\n",
      "35     0\n",
      "96     1\n",
      "169    1\n",
      "178    1\n",
      "92     0\n",
      "32     0\n",
      "164    0\n",
      "24     0\n",
      "115    0\n",
      "187    1\n",
      "100    0\n",
      "118    1\n",
      "59     0\n",
      "131    0\n",
      "135    0\n",
      "82     1\n",
      "141    1\n",
      "25     1\n",
      "119    1\n",
      "120    1\n",
      "125    1\n",
      "43     1\n",
      "90     1\n",
      "122    1\n",
      "23     1\n",
      "112    1\n",
      "159    0\n",
      "16     1\n",
      "17     0\n",
      "192    0\n",
      "134    1\n",
      "75     0\n",
      "73     0\n",
      "190    0\n",
      "42     1\n",
      "30     1\n",
      "113    0\n",
      "173    1\n",
      "13     1\n",
      "126    0\n",
      "138    0\n",
      "6      1\n",
      "77     1\n",
      "74     0\n",
      "102    1\n",
      "48     0\n",
      "176    0\n",
      "175    0\n",
      "174    0\n",
      "149    1\n",
      "117    0\n",
      "Name: liked, dtype: int64 [0 1 1 1 1 0 0 0 0 0 1 1 0 0 0 1 0 1 0 1 0 0 0 1 1 1 1 1 1 1 1 1 1 1 0 1 0\n",
      " 0 1 0 0 0 1 1 0 0 1 0 0 1 1 1 1 0 0 0 0 1 0]\n"
     ]
    }
   ],
   "source": [
    "prediction = print(y_test,y_preds_rf)"
   ]
  },
  {
   "cell_type": "code",
   "execution_count": null,
   "id": "2f68d261",
   "metadata": {},
   "outputs": [],
   "source": [
    "# saving as a database\n",
    "\n",
    "# Main\n",
    "def main():\n",
    "\n",
    "\n",
    "         finalprediction  = prediction + \".json\"\n",
    "        \n",
    "         with open(finalprediction, 'w', encoding='utf-8') as outfile:\n",
    "            json.dump(data, outfile, indent=4)\n",
    "\n",
    "files = []\n",
    "\n",
    "for file in files:\n",
    "         with codecs.open(file,'r','utf-8') as f: \n",
    "              data = json.load(f)\n",
    "              print(f.name)\n",
    "\n",
    "            \n",
    "c = conn.cursor()\n",
    "              \n",
    "c.execute('''CREATE TABLE randomforestprediction(songs INT, likes INT )''')\n",
    "                \n",
    "c.execute('''INSERT INTO randomforestprediction VALUES (?, ?)''', ( songs, likes))\n",
    " \n",
    " conn.commit()\n",
    "\n",
    "if __name__ == \"__main__\":\n",
    "    main()"
   ]
  }
 ],
 "metadata": {
  "kernelspec": {
   "display_name": "Python 3 (ipykernel)",
   "language": "python",
   "name": "python3"
  },
  "language_info": {
   "codemirror_mode": {
    "name": "ipython",
    "version": 3
   },
   "file_extension": ".py",
   "mimetype": "text/x-python",
   "name": "python",
   "nbconvert_exporter": "python",
   "pygments_lexer": "ipython3",
   "version": "3.9.7"
  }
 },
 "nbformat": 4,
 "nbformat_minor": 5
}
