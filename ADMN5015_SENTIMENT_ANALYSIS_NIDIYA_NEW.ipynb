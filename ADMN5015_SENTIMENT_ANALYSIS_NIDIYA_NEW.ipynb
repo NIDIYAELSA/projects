{
 "cells": [
  {
   "cell_type": "markdown",
   "id": "ea9f7b13",
   "metadata": {},
   "source": [
    "#### In this project we are trying to find out the sentiment analysis of the tweets of the user \"priyankachopra\". Our aim is to extract the latest tweets of a week and then we save it as a json file and we will print the response. Later on I find out the sentiment and magnitude of overall tweet, sentiment = 0.30000001192092896, magnitude = 0.30000001192092896. Then I parsed the json file and after that I find the sentiment of each tweet and saved the result as an excel file. Then I find the average weekly sentiment of the tweets. "
   ]
  },
  {
   "cell_type": "code",
   "execution_count": 91,
   "id": "1265c76a",
   "metadata": {},
   "outputs": [
    {
     "name": "stdout",
     "output_type": "stream",
     "text": [
      "Requirement already satisfied: google-cloud-language in c:\\users\\nidiy\\anaconda3\\lib\\site-packages (2.4.3)\n",
      "Requirement already satisfied: protobuf<4.0.0dev,>=3.19.0 in c:\\users\\nidiy\\anaconda3\\lib\\site-packages (from google-cloud-language) (3.20.0)\n",
      "Requirement already satisfied: google-api-core[grpc]!=2.0.*,!=2.1.*,!=2.2.*,!=2.3.0,<3.0.0dev,>=1.31.5 in c:\\users\\nidiy\\anaconda3\\lib\\site-packages (from google-cloud-language) (2.8.2)\n",
      "Requirement already satisfied: proto-plus<2.0.0dev,>=1.15.0 in c:\\users\\nidiy\\anaconda3\\lib\\site-packages (from google-cloud-language) (1.20.6)\n",
      "Requirement already satisfied: google-auth<3.0dev,>=1.25.0 in c:\\users\\nidiy\\anaconda3\\lib\\site-packages (from google-api-core[grpc]!=2.0.*,!=2.1.*,!=2.2.*,!=2.3.0,<3.0.0dev,>=1.31.5->google-cloud-language) (2.6.5)\n",
      "Requirement already satisfied: googleapis-common-protos<2.0dev,>=1.56.2 in c:\\users\\nidiy\\anaconda3\\lib\\site-packages (from google-api-core[grpc]!=2.0.*,!=2.1.*,!=2.2.*,!=2.3.0,<3.0.0dev,>=1.31.5->google-cloud-language) (1.56.2)\n",
      "Requirement already satisfied: requests<3.0.0dev,>=2.18.0 in c:\\users\\nidiy\\anaconda3\\lib\\site-packages (from google-api-core[grpc]!=2.0.*,!=2.1.*,!=2.2.*,!=2.3.0,<3.0.0dev,>=1.31.5->google-cloud-language) (2.27.1)\n",
      "Requirement already satisfied: grpcio-status<2.0dev,>=1.33.2 in c:\\users\\nidiy\\anaconda3\\lib\\site-packages (from google-api-core[grpc]!=2.0.*,!=2.1.*,!=2.2.*,!=2.3.0,<3.0.0dev,>=1.31.5->google-cloud-language) (1.46.3)\n",
      "Requirement already satisfied: grpcio<2.0dev,>=1.33.2 in c:\\users\\nidiy\\anaconda3\\lib\\site-packages (from google-api-core[grpc]!=2.0.*,!=2.1.*,!=2.2.*,!=2.3.0,<3.0.0dev,>=1.31.5->google-cloud-language) (1.46.3)\n",
      "Requirement already satisfied: cachetools<6.0,>=2.0.0 in c:\\users\\nidiy\\anaconda3\\lib\\site-packages (from google-auth<3.0dev,>=1.25.0->google-api-core[grpc]!=2.0.*,!=2.1.*,!=2.2.*,!=2.3.0,<3.0.0dev,>=1.31.5->google-cloud-language) (5.0.0)\n",
      "Requirement already satisfied: rsa<5,>=3.1.4 in c:\\users\\nidiy\\anaconda3\\lib\\site-packages (from google-auth<3.0dev,>=1.25.0->google-api-core[grpc]!=2.0.*,!=2.1.*,!=2.2.*,!=2.3.0,<3.0.0dev,>=1.31.5->google-cloud-language) (4.8)\n",
      "Requirement already satisfied: six>=1.9.0 in c:\\users\\nidiy\\anaconda3\\lib\\site-packages (from google-auth<3.0dev,>=1.25.0->google-api-core[grpc]!=2.0.*,!=2.1.*,!=2.2.*,!=2.3.0,<3.0.0dev,>=1.31.5->google-cloud-language) (1.16.0)\n",
      "Requirement already satisfied: pyasn1-modules>=0.2.1 in c:\\users\\nidiy\\anaconda3\\lib\\site-packages (from google-auth<3.0dev,>=1.25.0->google-api-core[grpc]!=2.0.*,!=2.1.*,!=2.2.*,!=2.3.0,<3.0.0dev,>=1.31.5->google-cloud-language) (0.2.8)\n",
      "Requirement already satisfied: charset-normalizer~=2.0.0 in c:\\users\\nidiy\\anaconda3\\lib\\site-packages (from requests<3.0.0dev,>=2.18.0->google-api-core[grpc]!=2.0.*,!=2.1.*,!=2.2.*,!=2.3.0,<3.0.0dev,>=1.31.5->google-cloud-language) (2.0.4)\n",
      "Requirement already satisfied: certifi>=2017.4.17 in c:\\users\\nidiy\\anaconda3\\lib\\site-packages (from requests<3.0.0dev,>=2.18.0->google-api-core[grpc]!=2.0.*,!=2.1.*,!=2.2.*,!=2.3.0,<3.0.0dev,>=1.31.5->google-cloud-language) (2021.10.8)\n",
      "Requirement already satisfied: idna<4,>=2.5 in c:\\users\\nidiy\\anaconda3\\lib\\site-packages (from requests<3.0.0dev,>=2.18.0->google-api-core[grpc]!=2.0.*,!=2.1.*,!=2.2.*,!=2.3.0,<3.0.0dev,>=1.31.5->google-cloud-language) (3.2)\n",
      "Requirement already satisfied: urllib3<1.27,>=1.21.1 in c:\\users\\nidiy\\anaconda3\\lib\\site-packages (from requests<3.0.0dev,>=2.18.0->google-api-core[grpc]!=2.0.*,!=2.1.*,!=2.2.*,!=2.3.0,<3.0.0dev,>=1.31.5->google-cloud-language) (1.26.7)\n",
      "Requirement already satisfied: pyasn1<0.5.0,>=0.4.6 in c:\\users\\nidiy\\anaconda3\\lib\\site-packages (from pyasn1-modules>=0.2.1->google-auth<3.0dev,>=1.25.0->google-api-core[grpc]!=2.0.*,!=2.1.*,!=2.2.*,!=2.3.0,<3.0.0dev,>=1.31.5->google-cloud-language) (0.4.8)\n",
      "Note: you may need to restart the kernel to use updated packages.\n"
     ]
    },
    {
     "name": "stderr",
     "output_type": "stream",
     "text": [
      "WARNING: You are using pip version 22.0.4; however, version 22.1.2 is available.\n",
      "You should consider upgrading via the 'C:\\Users\\nidiy\\anaconda3\\python.exe -m pip install --upgrade pip' command.\n"
     ]
    }
   ],
   "source": [
    "# installing packages\n",
    "pip install --upgrade google-cloud-language"
   ]
  },
  {
   "cell_type": "code",
   "execution_count": 92,
   "id": "bbb13c6a",
   "metadata": {},
   "outputs": [
    {
     "name": "stdout",
     "output_type": "stream",
     "text": [
      "Requirement already satisfied: PyYAML in c:\\users\\nidiy\\anaconda3\\lib\\site-packages (6.0)\n",
      "Note: you may need to restart the kernel to use updated packages.\n"
     ]
    },
    {
     "name": "stderr",
     "output_type": "stream",
     "text": [
      "WARNING: You are using pip version 22.0.4; however, version 22.1.2 is available.\n",
      "You should consider upgrading via the 'C:\\Users\\nidiy\\anaconda3\\python.exe -m pip install --upgrade pip' command.\n"
     ]
    }
   ],
   "source": [
    "pip install PyYAML"
   ]
  },
  {
   "cell_type": "code",
   "execution_count": 93,
   "id": "d8a1deb8",
   "metadata": {},
   "outputs": [],
   "source": [
    "from google.cloud import language_v1\n",
    "import os\n",
    "import requests\n",
    "import pandas as pd\n",
    "import json\n",
    "import yaml\n",
    "import pprint"
   ]
  },
  {
   "cell_type": "code",
   "execution_count": 94,
   "id": "ae435124",
   "metadata": {},
   "outputs": [],
   "source": [
    "# Create environment variables\n",
    "os.environ[\"GOOGLE_APPLICATION_CREDENTIALS\"] = \"sentiment-analysis-nidiya-d6c8884f166a.json\" "
   ]
  },
  {
   "cell_type": "code",
   "execution_count": 95,
   "id": "c7f150dc",
   "metadata": {},
   "outputs": [],
   "source": [
    "def create_twitter_url():\n",
    "    handle = \"priyankachopra\"\n",
    "    max_results = 100\n",
    "    mrf = \"max_results={}\".format(max_results)\n",
    "    q = \"query=from:{}\".format(handle)\n",
    "    url = \"https://api.twitter.com/2/tweets/search/recent?max_results=100&query=from:priyankachopra\".format(mrf, q)\n",
    "    return url"
   ]
  },
  {
   "cell_type": "code",
   "execution_count": 96,
   "id": "8f748c73",
   "metadata": {},
   "outputs": [],
   "source": [
    "def process_yaml():\n",
    " with open(\"config.yaml\") as file:\n",
    "        return yaml.safe_load(file)"
   ]
  },
  {
   "cell_type": "code",
   "execution_count": 97,
   "id": "7964d70e",
   "metadata": {},
   "outputs": [],
   "source": [
    "def create_bearer_token(data):\n",
    "    return data[\"search_tweets_api\"][\"bearer_token\"]"
   ]
  },
  {
   "cell_type": "code",
   "execution_count": 98,
   "id": "28da4aa2",
   "metadata": {},
   "outputs": [],
   "source": [
    "def twitter_auth_and_connect(bearer_token, url):\n",
    "    headers = {\"Authorization\": \"Bearer {}\".format(bearer_token)} \n",
    "    response=requests.request(\"GET\", url, headers=headers)\n",
    "    return response.json()"
   ]
  },
  {
   "cell_type": "code",
   "execution_count": 99,
   "id": "490413c9",
   "metadata": {},
   "outputs": [
    {
     "name": "stdout",
     "output_type": "stream",
     "text": [
      "\n",
      "URL:\n",
      "https://api.twitter.com/2/tweets/search/recent?max_results=100&query=from:priyankachopra\n",
      "\n",
      "Data:\n",
      "{'search_tweets_api': {'bearer_token': 'AAAAAAAAAAAAAAAAAAAAAKtEdQEAAAAA9yIxd3f8hZMUrsGWV3Qn3LMmEgg%3Dg1tZWznVIHxklcTPmqscCEkK97fmJAf5e8rRzS79zfwbkdv2zF'}}\n",
      "\n",
      "Bearer Token:\n",
      "AAAAAAAAAAAAAAAAAAAAAKtEdQEAAAAA9yIxd3f8hZMUrsGWV3Qn3LMmEgg%3Dg1tZWznVIHxklcTPmqscCEkK97fmJAf5e8rRzS79zfwbkdv2zF\n",
      "\n",
      "Response JSON:\n",
      "{'data': [{'id': '1539670111249784832',\n",
      "           'text': 'and for me that is the ethos of SONA HOME. From our table '\n",
      "                   'to yours, we hope that you experience our same love for '\n",
      "                   'hosting, community, family, and culture in your home.🤍 '\n",
      "                   'Shop now at https://t.co/ZvxfavBbUG!'},\n",
      "          {'id': '1539670014801743872',\n",
      "           'text': \"And this is an extension of that thought. It's awesome to \"\n",
      "                   'be working alongside @mkgoyal and our entire team in '\n",
      "                   'creating something so dear to our hearts and heritage. \\n'\n",
      "                   'Indian culture is known for its hospitality, it’s all '\n",
      "                   'about community and bringing people together...'},\n",
      "          {'id': '1539667710417571840',\n",
      "           'text': 'Launch day is here! I couldn’t be more proud to introduce '\n",
      "                   'you all to SONA HOME. It was challenging to come from '\n",
      "                   'India and make America my second home, but my journey led '\n",
      "                   'me to a place where I found a second family and friends. I '\n",
      "                   'bring a piece of India into everything I do. '\n",
      "                   'https://t.co/6Xz4FCffVc'}],\n",
      " 'meta': {'newest_id': '1539670111249784832',\n",
      "          'oldest_id': '1539667710417571840',\n",
      "          'result_count': 3}}\n"
     ]
    }
   ],
   "source": [
    "def main():\n",
    "    url = create_twitter_url()\n",
    "    print(\"\\nURL:\") \n",
    "    print(url)\n",
    "    \n",
    "    data= process_yaml()\n",
    "    print(\"\\nData:\")\n",
    "    print(data)\n",
    "    \n",
    "    bearer_token= create_bearer_token(data) \n",
    "    print('\\nBearer Token:')\n",
    "    print(bearer_token)\n",
    "\n",
    "    res_json = twitter_auth_and_connect(bearer_token, url) \n",
    "    print('\\nResponse JSON:')\n",
    "    pprint.pprint(res_json)\n",
    "\n",
    "    \n",
    "    # save the response to a file\n",
    "    with open(\"response.json\",\"w\") as file: \n",
    "     json.dump(res_json, file, indent=4)\n",
    "\n",
    "    # read the response from the file\n",
    "    with open(\"response.json\",) as file:\n",
    "     res_json = json.load(file)\n",
    "    \n",
    "\n",
    "if __name__ == \"__main__\":\n",
    " main()"
   ]
  },
  {
   "cell_type": "code",
   "execution_count": 100,
   "id": "bd1ffd46",
   "metadata": {},
   "outputs": [
    {
     "name": "stdout",
     "output_type": "stream",
     "text": [
      "Text: response.json\n",
      "Sentiment: 0.30000001192092896, 0.30000001192092896\n"
     ]
    }
   ],
   "source": [
    "# sentiment analysis of whole tweet\n",
    "# Instantiates a client\n",
    "client = language_v1.LanguageServiceClient()\n",
    "\n",
    "# The text to analyze\n",
    "text = \"response.json\"\n",
    "document = language_v1.Document(\n",
    "    content=text, type_=language_v1.Document.Type.PLAIN_TEXT\n",
    ")\n",
    "\n",
    "# Detects the sentiment of the text\n",
    "sentiment = client.analyze_sentiment(\n",
    "    request={\"document\": document}\n",
    ").document_sentiment\n",
    "\n",
    "print(\"Text: {}\".format(text))\n",
    "print(\"Sentiment: {}, {}\".format(sentiment.score, sentiment.magnitude))"
   ]
  },
  {
   "cell_type": "code",
   "execution_count": 101,
   "id": "44606d99",
   "metadata": {},
   "outputs": [
    {
     "name": "stdout",
     "output_type": "stream",
     "text": [
      "{'data': [{'id': '1539670111249784832', 'text': 'and for me that is the ethos of SONA HOME. From our table to yours, we hope that you experience our same love for hosting, community, family, and culture in your home.🤍 Shop now at https://t.co/ZvxfavBbUG!'}, {'id': '1539670014801743872', 'text': \"And this is an extension of that thought. It's awesome to be working alongside @mkgoyal and our entire team in creating something so dear to our hearts and heritage. \\nIndian culture is known for its hospitality, it’s all about community and bringing people together...\"}, {'id': '1539667710417571840', 'text': 'Launch day is here! I couldn’t be more proud to introduce you all to SONA HOME. It was challenging to come from India and make America my second home, but my journey led me to a place where I found a second family and friends. I bring a piece of India into everything I do. https://t.co/6Xz4FCffVc'}], 'meta': {'newest_id': '1539670111249784832', 'oldest_id': '1539667710417571840', 'result_count': 3}}\n"
     ]
    }
   ],
   "source": [
    "# parse the json file\n",
    "with open('response.json', 'r') as f:\n",
    "  data = json.load(f)\n",
    "print(data)"
   ]
  },
  {
   "cell_type": "code",
   "execution_count": 103,
   "id": "801659a4",
   "metadata": {},
   "outputs": [
    {
     "name": "stdout",
     "output_type": "stream",
     "text": [
      "Requirement already satisfied: nltk in c:\\users\\nidiy\\anaconda3\\lib\\site-packages (3.6.5)Note: you may need to restart the kernel to use updated packages.\n",
      "\n"
     ]
    },
    {
     "name": "stderr",
     "output_type": "stream",
     "text": [
      "WARNING: You are using pip version 22.0.4; however, version 22.1.2 is available.\n",
      "You should consider upgrading via the 'C:\\Users\\nidiy\\anaconda3\\python.exe -m pip install --upgrade pip' command.\n"
     ]
    },
    {
     "name": "stdout",
     "output_type": "stream",
     "text": [
      "Requirement already satisfied: click in c:\\users\\nidiy\\anaconda3\\lib\\site-packages (from nltk) (8.0.3)\n",
      "Requirement already satisfied: joblib in c:\\users\\nidiy\\anaconda3\\lib\\site-packages (from nltk) (1.1.0)\n",
      "Requirement already satisfied: regex>=2021.8.3 in c:\\users\\nidiy\\anaconda3\\lib\\site-packages (from nltk) (2021.8.3)\n",
      "Requirement already satisfied: tqdm in c:\\users\\nidiy\\anaconda3\\lib\\site-packages (from nltk) (4.62.3)\n",
      "Requirement already satisfied: colorama in c:\\users\\nidiy\\anaconda3\\lib\\site-packages (from click->nltk) (0.4.4)\n"
     ]
    }
   ],
   "source": [
    "# installing necessary packages\n",
    "pip install nltk "
   ]
  },
  {
   "cell_type": "code",
   "execution_count": 104,
   "id": "5d12e554",
   "metadata": {},
   "outputs": [
    {
     "name": "stdout",
     "output_type": "stream",
     "text": [
      "Requirement already satisfied: textblob in c:\\users\\nidiy\\anaconda3\\lib\\site-packages (0.17.1)\n",
      "Requirement already satisfied: nltk>=3.1 in c:\\users\\nidiy\\anaconda3\\lib\\site-packages (from textblob) (3.6.5)\n",
      "Requirement already satisfied: click in c:\\users\\nidiy\\anaconda3\\lib\\site-packages (from nltk>=3.1->textblob) (8.0.3)\n",
      "Requirement already satisfied: joblib in c:\\users\\nidiy\\anaconda3\\lib\\site-packages (from nltk>=3.1->textblob) (1.1.0)\n",
      "Requirement already satisfied: regex>=2021.8.3 in c:\\users\\nidiy\\anaconda3\\lib\\site-packages (from nltk>=3.1->textblob) (2021.8.3)\n",
      "Requirement already satisfied: tqdm in c:\\users\\nidiy\\anaconda3\\lib\\site-packages (from nltk>=3.1->textblob) (4.62.3)\n",
      "Requirement already satisfied: colorama in c:\\users\\nidiy\\anaconda3\\lib\\site-packages (from click->nltk>=3.1->textblob) (0.4.4)\n",
      "Note: you may need to restart the kernel to use updated packages.\n"
     ]
    },
    {
     "name": "stderr",
     "output_type": "stream",
     "text": [
      "WARNING: You are using pip version 22.0.4; however, version 22.1.2 is available.\n",
      "You should consider upgrading via the 'C:\\Users\\nidiy\\anaconda3\\python.exe -m pip install --upgrade pip' command.\n"
     ]
    }
   ],
   "source": [
    "pip install textblob"
   ]
  },
  {
   "cell_type": "code",
   "execution_count": 105,
   "id": "cacceee4",
   "metadata": {},
   "outputs": [],
   "source": [
    "# sentiment analysis of each tweet\n",
    "from textblob import TextBlob"
   ]
  },
  {
   "cell_type": "code",
   "execution_count": 106,
   "id": "6cc41b75",
   "metadata": {},
   "outputs": [],
   "source": [
    "text = 'and for me that is the ethos of SONA HOME. From our table to yours, we hope that you experience our same love for hosting, community, family, and culture in your home'"
   ]
  },
  {
   "cell_type": "code",
   "execution_count": 107,
   "id": "b831f6ee",
   "metadata": {},
   "outputs": [],
   "source": [
    "blob = TextBlob(text)"
   ]
  },
  {
   "cell_type": "code",
   "execution_count": 108,
   "id": "8082dcd9",
   "metadata": {},
   "outputs": [],
   "source": [
    "sentiment = blob.sentiment.polarity"
   ]
  },
  {
   "cell_type": "code",
   "execution_count": 109,
   "id": "946a02ad",
   "metadata": {},
   "outputs": [
    {
     "name": "stdout",
     "output_type": "stream",
     "text": [
      "0.25\n"
     ]
    }
   ],
   "source": [
    "print(sentiment)"
   ]
  },
  {
   "cell_type": "code",
   "execution_count": 110,
   "id": "5dc7c873",
   "metadata": {},
   "outputs": [],
   "source": [
    "text = 'And this is an extension of that thought. Its awesome to be working alongside @mkgoyal and our entire team in creating something so dear to our hearts and heritage. \\nIndian culture is known for its hospitality, it’s all about community and bringing people together...'"
   ]
  },
  {
   "cell_type": "code",
   "execution_count": 111,
   "id": "7a62a673",
   "metadata": {},
   "outputs": [
    {
     "name": "stdout",
     "output_type": "stream",
     "text": [
      "0.5\n"
     ]
    }
   ],
   "source": [
    "blob = TextBlob(text)\n",
    "\n",
    "sentiment = blob.sentiment.polarity\n",
    "\n",
    "print(sentiment)\n"
   ]
  },
  {
   "cell_type": "code",
   "execution_count": 112,
   "id": "864338cd",
   "metadata": {},
   "outputs": [],
   "source": [
    "text = 'Launch day is here! I couldn\\u2019t be more proud to introduce you all to SONA HOME. It was challenging to come from India and make America my second home, but my journey led me to a place where I found a second family and friends. I bring a piece of India into everything I do. https://t.co/6Xz4FCffVc'"
   ]
  },
  {
   "cell_type": "code",
   "execution_count": 113,
   "id": "faa555aa",
   "metadata": {},
   "outputs": [
    {
     "name": "stdout",
     "output_type": "stream",
     "text": [
      "0.36\n"
     ]
    }
   ],
   "source": [
    "blob = TextBlob(text)\n",
    "\n",
    "sentiment = blob.sentiment.polarity\n",
    "\n",
    "print(sentiment)\n"
   ]
  },
  {
   "cell_type": "code",
   "execution_count": null,
   "id": "14a9b52d",
   "metadata": {},
   "outputs": [],
   "source": []
  }
 ],
 "metadata": {
  "kernelspec": {
   "display_name": "Python 3 (ipykernel)",
   "language": "python",
   "name": "python3"
  },
  "language_info": {
   "codemirror_mode": {
    "name": "ipython",
    "version": 3
   },
   "file_extension": ".py",
   "mimetype": "text/x-python",
   "name": "python",
   "nbconvert_exporter": "python",
   "pygments_lexer": "ipython3",
   "version": "3.9.7"
  }
 },
 "nbformat": 4,
 "nbformat_minor": 5
}
